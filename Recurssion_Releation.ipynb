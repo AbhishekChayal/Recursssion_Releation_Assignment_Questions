{
 "cells": [
  {
   "cell_type": "markdown",
   "metadata": {},
   "source": [
    "Recurssion Releation Assignment Questions"
   ]
  },
  {
   "cell_type": "markdown",
   "metadata": {},
   "source": [
    "(1) Find the value of T(2) for the recurrence relation T(n) = 3T(n-1) + 12n, given that T(0)=5."
   ]
  },
  {
   "cell_type": "code",
   "execution_count": 1,
   "metadata": {},
   "outputs": [
    {
     "name": "stdout",
     "output_type": "stream",
     "text": [
      "T(2) = 105\n"
     ]
    }
   ],
   "source": [
    "def T(n):\n",
    "    if n == 0:\n",
    "        return 5  # Base case: T(0) = 5\n",
    "    else:\n",
    "        return 3 * T(n-1) + 12 * n\n",
    "\n",
    "# Calculate T(2)\n",
    "result = T(2)\n",
    "print(f\"T(2) = {result}\")\n"
   ]
  },
  {
   "cell_type": "markdown",
   "metadata": {},
   "source": [
    "2. Given a recurrence relation, solve it using the substitution method:\n",
    "\n",
    "a. T(n) = T(n-1) + c\n",
    "\n",
    "b. T(n) = 2T(n/2) + n\n",
    "\n",
    "c. T(n) = 2T(n/2) + c\n",
    "\n",
    "d. T(n) = T(n/2) + c"
   ]
  },
  {
   "cell_type": "code",
   "execution_count": 20,
   "metadata": {},
   "outputs": [
    {
     "name": "stdout",
     "output_type": "stream",
     "text": [
      "T_a(5) = 15\n",
      "T_b(8) = 32.0\n",
      "T_c(8) = 14.0\n",
      "T_d(8) = 7.0\n"
     ]
    }
   ],
   "source": [
    "import math\n",
    "def T_a(n, c, C_0):\n",
    "    return C_0 + n * c\n",
    "\n",
    "# Example: T(5) with c=2 and T(0)=5\n",
    "n = 5\n",
    "c = 2\n",
    "C_0 = 5\n",
    "print(f\"T_a({n}) = {T_a(n, c, C_0)}\")  \n",
    "\n",
    "\n",
    "\n",
    "def T_b(n, C_1):\n",
    "    return n * C_1 + n * math.log2(n)\n",
    "\n",
    "# Example: T(8) with T(1)=1\n",
    "n = 8\n",
    "C_1 = 1\n",
    "print(f\"T_b({n}) = {T_b(n, C_1)}\")  \n",
    "\n",
    "\n",
    "def T_c(n, c, C_1):\n",
    "    return n * C_1 + c * math.log2(n)\n",
    "\n",
    "# Example: T(8) with c=2 and T(1)=1\n",
    "n = 8\n",
    "c = 2\n",
    "C_1 = 1\n",
    "print(f\"T_c({n}) = {T_c(n, c, C_1)}\")  \n",
    "\n",
    "\n",
    "\n",
    "\n",
    "def T_d(n, c, C_1):\n",
    "    return C_1 + c * math.log2(n)\n",
    "\n",
    "# Example: T(8) with c=2 and T(1)=1\n",
    "n = 8\n",
    "c = 2\n",
    "C_1 = 1\n",
    "print(f\"T_d({n}) = {T_d(n, c, C_1)}\") \n"
   ]
  },
  {
   "cell_type": "markdown",
   "metadata": {},
   "source": [
    "3. Given a recurrence relation, solve it using the recursive tree approach:\n",
    "a. T(n) = 2T(n-1) +1\n",
    "b. T(n) = 2T(n/2) + n"
   ]
  },
  {
   "cell_type": "code",
   "execution_count": 21,
   "metadata": {},
   "outputs": [
    {
     "name": "stdout",
     "output_type": "stream",
     "text": [
      "T_a(4) = 31\n",
      "T_b(8) = 32\n"
     ]
    }
   ],
   "source": [
    "def T_a(n):\n",
    "    if n == 0:\n",
    "        return 1\n",
    "    return 2 * T_a(n-1) + 1\n",
    "\n",
    "# Example: T(4)\n",
    "n = 4\n",
    "print(f\"T_a({n}) = {T_a(n)}\")  # Output: 31\n",
    "\n",
    "import math\n",
    "\n",
    "def T_b(n):\n",
    "    if n <= 1:\n",
    "        return n\n",
    "    return 2 * T_b(n // 2) + n\n",
    "\n",
    "# Example: T(8)\n",
    "n = 8\n",
    "print(f\"T_b({n}) = {T_b(n)}\")  # Output: 28\n"
   ]
  }
 ],
 "metadata": {
  "kernelspec": {
   "display_name": "base",
   "language": "python",
   "name": "python3"
  },
  "language_info": {
   "codemirror_mode": {
    "name": "ipython",
    "version": 3
   },
   "file_extension": ".py",
   "mimetype": "text/x-python",
   "name": "python",
   "nbconvert_exporter": "python",
   "pygments_lexer": "ipython3",
   "version": "3.11.4"
  }
 },
 "nbformat": 4,
 "nbformat_minor": 2
}
